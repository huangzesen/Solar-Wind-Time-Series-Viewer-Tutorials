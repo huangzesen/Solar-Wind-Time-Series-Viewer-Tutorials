{
 "cells": [
  {
   "cell_type": "markdown",
   "id": "f930e5fa-9463-4b82-8ddd-b7ebe57235c5",
   "metadata": {},
   "source": [
    "# Tutorial for Solar Wind Time Series Viewer"
   ]
  },
  {
   "cell_type": "markdown",
   "id": "f9812d64-a348-47d5-848e-288f3d18340b",
   "metadata": {},
   "source": [
    "## Installation"
   ]
  },
  {
   "cell_type": "markdown",
   "id": "515ccde6-1d5b-4eb9-87d3-7f9f246e6e6c",
   "metadata": {},
   "source": [
    "- create conda enviroment\n",
    "\n",
    "    `conda create --name tsv1 --file spec-file.txt`\n",
    "    \n",
    "- Note that CDF library may be required\n",
    "\n",
    "- Download the package\n",
    "\n",
    "    `git clone https://github.com/huangzesen/Solar-Wind-Time-Series-Viewer`"
   ]
  },
  {
   "cell_type": "markdown",
   "id": "be9d1d8b-62de-42a8-b9bc-b44544df4721",
   "metadata": {},
   "source": [
    "## Initalization"
   ]
  },
  {
   "cell_type": "code",
   "execution_count": 11,
   "id": "df13fe61-4209-4e4b-9929-d34f31f76c20",
   "metadata": {},
   "outputs": [
    {
     "name": "stdout",
     "output_type": "stream",
     "text": [
      "The autoreload extension is already loaded. To reload it, use:\n",
      "  %reload_ext autoreload\n"
     ]
    }
   ],
   "source": [
    "%load_ext autoreload\n",
    "%autoreload 2\n",
    "%matplotlib tk\n",
    "\n",
    "import sys\n",
    "# set pyspedas path (not necessary, as long as you have installed spedas)\n",
    "sys.path.insert(0,\"../pyspedas\")\n",
    "# add Solar Wind Time Series Viewer Path (path to the package)\n",
    "sys.path.insert(0,\"./Solar-Wind-Time-Series-Viewer\")\n",
    "\n",
    "import pyspedas\n",
    "from pytplot import get_data\n",
    "from pyspedas.utilities import time_string\n",
    "import pandas as pd\n",
    "import numpy as np\n",
    "import matplotlib.pyplot as plt\n",
    "from IPython.display import clear_output\n",
    "from pathlib import Path\n",
    "import os\n",
    "import pickle\n",
    "from gc import collect\n",
    "\n",
    "# from TSUtilities import FindIntervalInfo\n",
    "from TimeSeriesViewer import TimeSeriesViewer"
   ]
  },
  {
   "cell_type": "markdown",
   "id": "c839dfee-e543-4770-8f41-cee36386bab3",
   "metadata": {},
   "source": [
    "## Initialize the TimeSeriesViewer object\n",
    "\n",
    "- sc: spacecraft code\n",
    "    - sc = 0 : PSP (use spedas, ./psp_data required)\n",
    "    - sc = 1 : Solar Orbiter (use spedas, ./solar_orbiter_data required)\n",
    "    - sc = 2 : Helios-1\n",
    "    - sc = 3 : Helios-2\n",
    "    - sc = 4 : Ulysses (use spedas ./ulysses_data required)\n",
    "    \n",
    "    for the ones using spedas, local spedas folder is required\n",
    "\n",
    "- rolling_rate: rolling window for averaged quantities, like V and B"
   ]
  },
  {
   "cell_type": "code",
   "execution_count": 2,
   "id": "d09e8a3a-c756-4630-b45a-0a863ec01ae2",
   "metadata": {},
   "outputs": [
    {
     "name": "stdout",
     "output_type": "stream",
     "text": [
      "Initializing...\n",
      "Current Directory: /Users/huangzesen/work/projects/select_turbulence_intervals/Tutorials\n",
      "Preloading raw dataframe... This may take some time...\n",
      "Current Settings...\n",
      "verbose : True\n",
      "Loading Helios-1 data from CDAWEB...\n"
     ]
    },
    {
     "name": "stderr",
     "output_type": "stream",
     "text": [
      "10-Nov-22 13:42:27: /Users/huangzesen/work/projects/select_turbulence_intervals/Tutorials/./source/LoadData.py:167: RuntimeWarning: invalid value encountered in sqrt\n",
      "  'Vth': 0.128487*np.sqrt(data['Tp']), # vth[km/s] = 0.128487 * √Tp[K]\n",
      "\n"
     ]
    },
    {
     "name": "stdout",
     "output_type": "stream",
     "text": [
      "Done.\n",
      "Final Settings...\n",
      "verbose : True\n",
      "Vx not in columns...!\n",
      "Vy not in columns...!\n",
      "Vz not in columns...!\n",
      "Done.\n",
      "Done.\n"
     ]
    }
   ],
   "source": [
    "t00 = pd.Timestamp(\"1975-07-01\")\n",
    "t10 = pd.Timestamp(\"1975-10-01\")\n",
    "\n",
    "# credentials for PSP, if you have one, fill them at the Nones\n",
    "# credentials = {'psp':\n",
    "#          {\n",
    "#              'fields': {'username': None, 'password': None},\n",
    "#              'sweap': {'username': None, 'password': None}\n",
    "#          }\n",
    "#     }\n",
    "credentials = None\n",
    "\n",
    "tsv = TimeSeriesViewer(sc = 2, \n",
    "                       start_time_0 = t00, \n",
    "                       end_time_0 = t10, \n",
    "                       rolling_rate = '1H', \n",
    "                       resolution = 5,\n",
    "                       credentials = credentials\n",
    "                      )"
   ]
  },
  {
   "cell_type": "markdown",
   "id": "d4980615-b16d-4aaa-9513-87be9e958693",
   "metadata": {},
   "source": [
    "## Make the plot\n",
    "\n",
    "- t0, t1: the start and end time of the current interactive window\n",
    "\n",
    "- tsv.p_funcs: the functions that are initialized when you click p within the interval\n",
    "    - Should be a dictionary, where keys are the programs you want to use\n",
    "    - the values works as settings for the specific program\n",
    "    - currently supporting:\n",
    "        - \"PSD\": calculate the PSD, and leave a PSD dictionary in the selected intervals\n",
    "        - \"Struc_Func\" calculate the 1st order structure function, and leave a struc_funcs dictionary in the selected intervals\n",
    "        - more to come...\n",
    "\n",
    "- tsv.resample_rate is the resolution of the interactive window\n",
    "\n",
    "- tsv.connect() connect your self to the interactive window\n",
    "\n",
    "Note that the time series can be accessed via: tsv.dfts"
   ]
  },
  {
   "cell_type": "code",
   "execution_count": 6,
   "id": "57f69b7e-1f0f-4bed-b6cc-e1d20b3fb191",
   "metadata": {},
   "outputs": [
    {
     "name": "stdout",
     "output_type": "stream",
     "text": [
      "Preparing Time Series....\n",
      "Finding Corresponding Time Series...\n",
      "Processing the Time Series...\n",
      "SC SW data not exist! Use RTN instead!\n",
      "Done.\n",
      "Load High Res Mag data for sc = 2\n",
      "Required tstart = 1975-08-01 00:00:00, tend = 1975-09-01 00:00:00\n",
      "Input tstart = 1975-07-31 14:00:00+00:00, tend = 1975-09-01 10:00:00+00:00\n",
      "Returned tstart = 1975-07-31 15:03:18, tend = 1975-08-19 23:28:48\n",
      "Final tstart = 1975-08-01 15:18:06, tend = 1975-08-19 23:28:48\n"
     ]
    }
   ],
   "source": [
    "plt.close('all')\n",
    "tsv.resample_rate = '10min'\n",
    "t0 = pd.Timestamp(\"1975-08-01\")\n",
    "t1 = pd.Timestamp(\"1975-09-01\")\n",
    "# initialize the window\n",
    "tsv.InitFigure(t0, t1)\n",
    "# programs for key \"p\"\n",
    "tsv.p_funcs = {'PSD':1, 'Struc_Func':1}\n",
    "tsv.connect()"
   ]
  },
  {
   "cell_type": "markdown",
   "id": "062aaeb8-5098-4fcc-b4d7-8e65bcd5c3c9",
   "metadata": {},
   "source": [
    "## How to interactive with the window and select intervals\n",
    "\n",
    "**HAVE TO BE PATIENT, THE WINDOW CAN TAKE SOME TIME TO REACT**\n",
    "\n",
    "- *left click* on the interactive figure will create a red dashed line, two red dashed lines will enclose a red shaded area, indicating **selected** interval.\n",
    "\n",
    "- *right click* on the interactive figure will create a green dashed line, two green dashed lines will enclose a area to **zoom in**.\n",
    "\n",
    "- press *backspace* will return to the previous window (not recommended, can be buggy, reinitialize window is recommended)\n",
    "\n",
    "- press *d* <u> when the cross hair is inside the selected interval </u> will **delete** the interval\n",
    "\n",
    "- press *p* <u> when the cross hair is inside the selected interval </u> will initialize the desired **program** specified by tsv.p_funcs to derive diagnostics of the interval\n",
    "    - when intervals overlaps with each other, the program will automatically choose the shortest one\n",
    "    - for each **program**, the derived diagnostics will be saved in the tsv.selected_intervals, which is a <u> list of dictionaries</u>.\n",
    "    \n",
    "- when the cross hair is inside the interval, the floating text will show some diagnostics of the selected interval\n",
    "\n",
    "![](./figures/Figure_1.png)    \n",
    "    "
   ]
  },
  {
   "cell_type": "markdown",
   "id": "c4a3f29d-774b-41be-9861-830b50850306",
   "metadata": {},
   "source": [
    "## Print Diagnostics of the selected intervals"
   ]
  },
  {
   "cell_type": "code",
   "execution_count": 82,
   "id": "8b6837f3-c9f3-4498-9636-084d424bd946",
   "metadata": {},
   "outputs": [
    {
     "name": "stdout",
     "output_type": "stream",
     "text": [
      "<dBmod/Bmod> = 0.2490, <sigma_c> = 0.3332, <std_np> = 0.1461, <vsw> = 423 km/s, <vsw_std> = 0.1514, <Rmax/Rmin> = 1.07\n"
     ]
    }
   ],
   "source": [
    "for i1 in range(len(tsv.selected_intervals)):\n",
    "    try:\n",
    "        rolling_std = np.sqrt(np.sum((\n",
    "            tsv.selected_intervals[i1]['dfmag']['Btot'] - tsv.selected_intervals[i1]['dfmag']['Btot'].rolling('1H').mean()\n",
    "        )**2)/len(tsv.selected_intervals[i1]['dfmag']['Btot']))\n",
    "\n",
    "        std_np = np.sqrt(np.sum((\n",
    "            tsv.selected_intervals[i1]['TimeSeries']['np'] - tsv.selected_intervals[i1]['TimeSeries']['np'].rolling('1H').mean()\n",
    "        )**2)/len(tsv.selected_intervals[i1]['TimeSeries']['np']))/tsv.selected_intervals[i1]['TimeSeries']['np'].mean()\n",
    "\n",
    "        print(\"<dBmod/Bmod> = %.4f, <sigma_c> = %.4f, <std_np> = %.4f, <vsw> = %.0f km/s, <vsw_std> = %.4f, <Rmax/Rmin> = %.2f\" %(\n",
    "            (rolling_std)/(tsv.selected_intervals[i1]['dfmag']['Btot'].mean()),\n",
    "            tsv.selected_intervals[i1]['TimeSeries']['sigma_c'].mean(),\n",
    "            std_np,\n",
    "            tsv.selected_intervals[i1]['TimeSeries']['vsw'].mean(),\n",
    "            tsv.selected_intervals[i1]['TimeSeries']['vsw'].std()/tsv.selected_intervals[i1]['TimeSeries']['vsw'].mean(),\n",
    "            tsv.selected_intervals[i1]['TimeSeries']['Dist_au'].max()/tsv.selected_intervals[i1]['TimeSeries']['Dist_au'].min()\n",
    "            )\n",
    "        )\n",
    "    except:\n",
    "        pass"
   ]
  },
  {
   "cell_type": "markdown",
   "id": "dd8fc731-7d8c-47e8-a11a-d028c155d1fd",
   "metadata": {},
   "source": [
    "## Save the intervals\n",
    "\n",
    "The selected intervals are stored in\n",
    "\n",
    "*tsv.selected_intervals*\n",
    "\n",
    "which is a **list of dictionaries**. Each dictionary is comprised of many keys, where ['rects', 'lines1', 'lines2'] are matplotlib objects, and are not supposed to be saved (unless you wish to keep them, can be very problematic). Other keys are very useful.\n",
    "\n",
    "- spacecraft: spacecraft code\n",
    "- start_time, end_time: start and end time of the interval\n",
    "- TimeSeries: tsv.dfts for the current interval\n",
    "- dfmag: full resolution magnetic field data\n",
    "- LTSWsettings: LoadTimeSeriesWrapper settings, used by PSP because of different instruments are used at different times...\n",
    "- PSD, struc_funcs: diagnostics data"
   ]
  },
  {
   "cell_type": "code",
   "execution_count": 5,
   "id": "aebd8bae-f61a-417c-994a-bbf5091fe73d",
   "metadata": {},
   "outputs": [
    {
     "name": "stdout",
     "output_type": "stream",
     "text": [
      "dict_keys(['spacecraft', 'start_time', 'end_time', 'TimeSeries', 'rects', 'lines1', 'lines2', 'dfmag', 'LTSWsettings', 'PSD', 'struc_funcs'])\n"
     ]
    }
   ],
   "source": [
    "print(tsv.selected_intervals[0].keys())"
   ]
  },
  {
   "cell_type": "code",
   "execution_count": 7,
   "id": "f385b889-737c-499b-9252-8633ed3401db",
   "metadata": {},
   "outputs": [],
   "source": [
    "# extract the useful keys\n",
    "useful_keys = ['spacecraft', 'start_time', 'end_time', 'TimeSeries', \n",
    "               'dfmag', 'LTSWsettings', 'PSD', 'struc_funcs']\n",
    "\n",
    "# save in a new dictionary\n",
    "d = {}\n",
    "for k in useful_keys:\n",
    "    d[k] = tsv.selected_intervals[0][k]"
   ]
  },
  {
   "cell_type": "markdown",
   "id": "94fe642e-667a-48a1-9771-cafa2c1268fc",
   "metadata": {},
   "source": [
    "then save d somewhere using pickle.dump"
   ]
  },
  {
   "cell_type": "code",
   "execution_count": 9,
   "id": "872c95d1-742c-462b-ba47-2d8cc77df9d5",
   "metadata": {},
   "outputs": [],
   "source": [
    "os.makedirs(\"intervals\", exist_ok = True)\n",
    "with open(\"intervals/tsv.pkl\", 'wb') as f:\n",
    "    pickle.dump(d, f)"
   ]
  },
  {
   "cell_type": "markdown",
   "id": "51470229-fa0e-4fbf-83bc-e3e7e18b367c",
   "metadata": {},
   "source": [
    "## Import the intervals\n",
    "\n",
    "The intervals can be imported to resume your work, or to export time series plots. \n",
    "\n",
    "**Note that if you press p again for a selected interval, the diagnostics will be replaced with new ones**"
   ]
  },
  {
   "cell_type": "markdown",
   "id": "eb982de9-35b8-4870-bae8-f45cbec70435",
   "metadata": {},
   "source": [
    "### read the intervals"
   ]
  },
  {
   "cell_type": "code",
   "execution_count": 8,
   "id": "ad1be7e8-7e84-4c9b-be8f-ae9e35fcac4e",
   "metadata": {},
   "outputs": [],
   "source": [
    "d = pd.read_pickle(\"intervals/tsv.pkl\")"
   ]
  },
  {
   "cell_type": "code",
   "execution_count": 9,
   "id": "633771aa-9a5a-46df-a544-841bc54f4c99",
   "metadata": {},
   "outputs": [
    {
     "name": "stdout",
     "output_type": "stream",
     "text": [
      "Preparing Time Series....\n",
      "Finding Corresponding Time Series...\n",
      "Processing the Time Series...\n",
      "SC SW data not exist! Use RTN instead!\n",
      "Done.\n",
      "Load High Res Mag data for sc = 2\n",
      "Required tstart = 1975-08-01 00:00:00, tend = 1975-10-01 00:00:00\n",
      "Input tstart = 1975-07-31 14:00:00+00:00, tend = 1975-10-01 10:00:00+00:00\n",
      "Returned tstart = 1975-07-31 15:03:18, tend = 1975-10-01 08:12:48\n",
      "Final tstart = 1975-08-01 15:18:06, tend = 1975-09-30 23:59:54\n"
     ]
    },
    {
     "name": "stderr",
     "output_type": "stream",
     "text": [
      "invalid command name \"140239509012096delayed_destroy\"\n",
      "    while executing\n",
      "\"140239509012096delayed_destroy\"\n",
      "    (\"after\" script)\n"
     ]
    }
   ],
   "source": [
    "plt.close('all')\n",
    "tsv.resample_rate = '5min'\n",
    "t0 = pd.Timestamp(\"1975-08-01\")\n",
    "t1 = pd.Timestamp(\"1975-10-01\")\n",
    "tsv.InitFigure(t0, t1)\n",
    "# this will import your existing intervals and plot them on top\n",
    "tsv.ImportSelectedIntervals([d])\n",
    "tsv.p_funcs = {'PSD':1, 'Struc_Func':1}\n",
    "tsv.connect()"
   ]
  },
  {
   "cell_type": "markdown",
   "id": "dd4e2bd4-6ceb-4d44-b31c-7c88c1ac5fb2",
   "metadata": {},
   "source": [
    "## Export Intervals Captures"
   ]
  },
  {
   "cell_type": "code",
   "execution_count": 10,
   "id": "7d482dcc-9475-49a8-aadd-ee058be70cc7",
   "metadata": {},
   "outputs": [
    {
     "name": "stdout",
     "output_type": "stream",
     "text": [
      "Preparing Time Series....\n",
      "Finding Corresponding Time Series...\n",
      "Processing the Time Series...\n",
      "SC SW data not exist! Use RTN instead!\n",
      "Done.\n",
      "Load High Res Mag data for sc = 2\n",
      "Required tstart = 1975-08-10 17:20:00, tend = 1975-08-18 12:41:00\n",
      "Input tstart = 1975-08-10 07:20:00+00:00, tend = 1975-08-18 22:41:00+00:00\n",
      "Returned tstart = 1975-08-10 15:45:42, tend = 1975-08-15 21:36:18\n",
      "Final tstart = 1975-08-10 17:20:00, tend = 1975-08-15 21:36:18\n"
     ]
    }
   ],
   "source": [
    "plt.close('all')\n",
    "tsv.resample_rate = '5min'\n",
    "\n",
    "# change t0 to appropriate start time for the given interval\n",
    "t0 = d['start_time']-pd.Timedelta('1d')\n",
    "# change t1 to appropriate end time for the given interval\n",
    "t1 = d['end_time']+pd.Timedelta('1d')\n",
    "\n",
    "tsv.InitFigure(t0, t1)\n",
    "# this will import your existing intervals and plot them on top\n",
    "tsv.selected_intervals = []\n",
    "tsv.ImportSelectedIntervals([d])\n",
    "\n",
    "# save figure\n",
    "os.makedirs(\"figures\", exist_ok = True)\n",
    "tsv.fig.set_constrained_layout(True)\n",
    "tsv.fig.savefig(\"figures/example.png\", dpi = 300)\n",
    "\n",
    "# note that all the axes in the figure can be accessed via:\n",
    "# tsv.axes\n",
    "# it is possible to change the aesthetics"
   ]
  },
  {
   "cell_type": "markdown",
   "id": "e0ce29ff-7a1c-4671-a21b-fe3b0259ea12",
   "metadata": {},
   "source": [
    "## About PSP"
   ]
  },
  {
   "cell_type": "code",
   "execution_count": null,
   "id": "cc7bfe16-1b34-424e-82a5-7de503c43457",
   "metadata": {},
   "outputs": [],
   "source": [
    "t00 = pd.Timestamp(\"2022-05-01\")\n",
    "t10 = pd.Timestamp(\"2022-07-01\")\n",
    "credentials = {'psp':\n",
    "         {\n",
    "             'fields': {'username': None, 'password': None},\n",
    "             'sweap': {'username': None, 'password': None}\n",
    "         }\n",
    "    }\n",
    "tsv = TimeSeriesViewer(sc = 0, \n",
    "                       start_time_0 = t00, \n",
    "                       end_time_0 = t10, \n",
    "                       resample_rate = '5min', \n",
    "                       rolling_rate = '1H', \n",
    "                       resolution = 5,\n",
    "                       credentials = credentials,\n",
    "                       LTSWsettings = {'must_have_qtn':False, 'particle_mode':'span_only'}\n",
    "                      )"
   ]
  },
  {
   "cell_type": "markdown",
   "id": "9fc10072-6963-487f-a6d2-e24ff663054d",
   "metadata": {},
   "source": [
    "The LTSWsettings have two main components\n",
    "{'must_have_qtn':False, 'particle_mode':'span_only'}\n",
    "there are three particle_mode:\n",
    "- span_only\n",
    "- spc_only\n",
    "- empirical\n",
    "the empirical mode:\n",
    "\n",
    "empirical use of data\n",
    "encounter date: https://sppgway.jhuapl.edu/index.php/encounters\n",
    "before encounter 9 (Perihelion: 2021-08-09/19:11) use SPC for solar wind speed\n",
    "at and after encounter 8, mix SPC and SPAN for solar wind speed\n",
    "prioritize QTN for density, and fill with SPC, and with SPAN\n",
    "\n",
    "the 'must_have_qtn' option will force you to have qtn data available for the interval"
   ]
  },
  {
   "cell_type": "code",
   "execution_count": null,
   "id": "3d159e6d-288e-451c-ad69-6bf50e287ae8",
   "metadata": {},
   "outputs": [],
   "source": []
  }
 ],
 "metadata": {
  "kernelspec": {
   "display_name": "Python 3 (ipykernel)",
   "language": "python",
   "name": "python3"
  },
  "language_info": {
   "codemirror_mode": {
    "name": "ipython",
    "version": 3
   },
   "file_extension": ".py",
   "mimetype": "text/x-python",
   "name": "python",
   "nbconvert_exporter": "python",
   "pygments_lexer": "ipython3",
   "version": "3.10.4"
  }
 },
 "nbformat": 4,
 "nbformat_minor": 5
}
